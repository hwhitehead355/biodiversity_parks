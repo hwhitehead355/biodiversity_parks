{
 "cells": [
  {
   "cell_type": "markdown",
   "metadata": {},
   "source": [
    "# Biodiversity in National Parks\n",
    "This project forms part of the Codecademy 'Data Science Foundations' course, and uses a synthetic dataset from Codecademy.<br>\n",
    "I will explore data from the National Parks Service, and investigate whether there are any patterns or themes to the types of species that become endangered.\n",
    "\n",
    "## 1. Importing libraries and data files"
   ]
  },
  {
   "cell_type": "code",
   "execution_count": 1,
   "metadata": {},
   "outputs": [],
   "source": [
    "import pandas as pd\n",
    "import numpy as np\n",
    "import seaborn as sns\n",
    "import matplotlib.pyplot as plt\n",
    "from scipy.stats import chi2_contingency\n",
    "\n",
    "observations = pd.read_csv(\"observations.csv\")\n",
    "species_info = pd.read_csv(\"species_info.csv\")"
   ]
  },
  {
   "cell_type": "markdown",
   "metadata": {},
   "source": [
    "## 2. Inspecting the data"
   ]
  },
  {
   "cell_type": "code",
   "execution_count": 2,
   "metadata": {},
   "outputs": [
    {
     "data": {
      "text/html": [
       "<div>\n",
       "<style scoped>\n",
       "    .dataframe tbody tr th:only-of-type {\n",
       "        vertical-align: middle;\n",
       "    }\n",
       "\n",
       "    .dataframe tbody tr th {\n",
       "        vertical-align: top;\n",
       "    }\n",
       "\n",
       "    .dataframe thead th {\n",
       "        text-align: right;\n",
       "    }\n",
       "</style>\n",
       "<table border=\"1\" class=\"dataframe\">\n",
       "  <thead>\n",
       "    <tr style=\"text-align: right;\">\n",
       "      <th></th>\n",
       "      <th>scientific_name</th>\n",
       "      <th>park_name</th>\n",
       "      <th>observations</th>\n",
       "    </tr>\n",
       "  </thead>\n",
       "  <tbody>\n",
       "    <tr>\n",
       "      <th>0</th>\n",
       "      <td>Vicia benghalensis</td>\n",
       "      <td>Great Smoky Mountains National Park</td>\n",
       "      <td>68</td>\n",
       "    </tr>\n",
       "    <tr>\n",
       "      <th>1</th>\n",
       "      <td>Neovison vison</td>\n",
       "      <td>Great Smoky Mountains National Park</td>\n",
       "      <td>77</td>\n",
       "    </tr>\n",
       "    <tr>\n",
       "      <th>2</th>\n",
       "      <td>Prunus subcordata</td>\n",
       "      <td>Yosemite National Park</td>\n",
       "      <td>138</td>\n",
       "    </tr>\n",
       "    <tr>\n",
       "      <th>3</th>\n",
       "      <td>Abutilon theophrasti</td>\n",
       "      <td>Bryce National Park</td>\n",
       "      <td>84</td>\n",
       "    </tr>\n",
       "    <tr>\n",
       "      <th>4</th>\n",
       "      <td>Githopsis specularioides</td>\n",
       "      <td>Great Smoky Mountains National Park</td>\n",
       "      <td>85</td>\n",
       "    </tr>\n",
       "  </tbody>\n",
       "</table>\n",
       "</div>"
      ],
      "text/plain": [
       "            scientific_name                            park_name  observations\n",
       "0        Vicia benghalensis  Great Smoky Mountains National Park            68\n",
       "1            Neovison vison  Great Smoky Mountains National Park            77\n",
       "2         Prunus subcordata               Yosemite National Park           138\n",
       "3      Abutilon theophrasti                  Bryce National Park            84\n",
       "4  Githopsis specularioides  Great Smoky Mountains National Park            85"
      ]
     },
     "execution_count": 2,
     "metadata": {},
     "output_type": "execute_result"
    }
   ],
   "source": [
    "observations.head()"
   ]
  },
  {
   "cell_type": "code",
   "execution_count": 3,
   "metadata": {},
   "outputs": [
    {
     "name": "stdout",
     "output_type": "stream",
     "text": [
      "<class 'pandas.core.frame.DataFrame'>\n",
      "RangeIndex: 23296 entries, 0 to 23295\n",
      "Data columns (total 3 columns):\n",
      " #   Column           Non-Null Count  Dtype \n",
      "---  ------           --------------  ----- \n",
      " 0   scientific_name  23296 non-null  object\n",
      " 1   park_name        23296 non-null  object\n",
      " 2   observations     23296 non-null  int64 \n",
      "dtypes: int64(1), object(2)\n",
      "memory usage: 546.1+ KB\n"
     ]
    }
   ],
   "source": [
    "observations.info()"
   ]
  },
  {
   "cell_type": "code",
   "execution_count": 4,
   "metadata": {},
   "outputs": [
    {
     "data": {
      "text/plain": [
       "15"
      ]
     },
     "execution_count": 4,
     "metadata": {},
     "output_type": "execute_result"
    }
   ],
   "source": [
    "#checking for exact duplicates\n",
    "len(observations) - len(observations.drop_duplicates())"
   ]
  },
  {
   "cell_type": "code",
   "execution_count": 5,
   "metadata": {},
   "outputs": [
    {
     "data": {
      "text/html": [
       "<div>\n",
       "<style scoped>\n",
       "    .dataframe tbody tr th:only-of-type {\n",
       "        vertical-align: middle;\n",
       "    }\n",
       "\n",
       "    .dataframe tbody tr th {\n",
       "        vertical-align: top;\n",
       "    }\n",
       "\n",
       "    .dataframe thead th {\n",
       "        text-align: right;\n",
       "    }\n",
       "</style>\n",
       "<table border=\"1\" class=\"dataframe\">\n",
       "  <thead>\n",
       "    <tr style=\"text-align: right;\">\n",
       "      <th></th>\n",
       "      <th>scientific_name</th>\n",
       "      <th>park_name</th>\n",
       "      <th>observations</th>\n",
       "    </tr>\n",
       "  </thead>\n",
       "  <tbody>\n",
       "    <tr>\n",
       "      <th>0</th>\n",
       "      <td>Vicia benghalensis</td>\n",
       "      <td>Great Smoky Mountains National Park</td>\n",
       "      <td>68</td>\n",
       "    </tr>\n",
       "    <tr>\n",
       "      <th>10447</th>\n",
       "      <td>Vicia benghalensis</td>\n",
       "      <td>Yosemite National Park</td>\n",
       "      <td>148</td>\n",
       "    </tr>\n",
       "    <tr>\n",
       "      <th>12455</th>\n",
       "      <td>Vicia benghalensis</td>\n",
       "      <td>Yellowstone National Park</td>\n",
       "      <td>247</td>\n",
       "    </tr>\n",
       "    <tr>\n",
       "      <th>15518</th>\n",
       "      <td>Vicia benghalensis</td>\n",
       "      <td>Bryce National Park</td>\n",
       "      <td>104</td>\n",
       "    </tr>\n",
       "  </tbody>\n",
       "</table>\n",
       "</div>"
      ],
      "text/plain": [
       "          scientific_name                            park_name  observations\n",
       "0      Vicia benghalensis  Great Smoky Mountains National Park            68\n",
       "10447  Vicia benghalensis               Yosemite National Park           148\n",
       "12455  Vicia benghalensis            Yellowstone National Park           247\n",
       "15518  Vicia benghalensis                  Bryce National Park           104"
      ]
     },
     "execution_count": 5,
     "metadata": {},
     "output_type": "execute_result"
    }
   ],
   "source": [
    "# All the listings for Vicia benghalensis - just exploring\n",
    "vic_beng = observations[observations['scientific_name'] == \"Vicia benghalensis\"]\n",
    "vic_beng"
   ]
  },
  {
   "cell_type": "code",
   "execution_count": 6,
   "metadata": {},
   "outputs": [
    {
     "data": {
      "text/html": [
       "<div>\n",
       "<style scoped>\n",
       "    .dataframe tbody tr th:only-of-type {\n",
       "        vertical-align: middle;\n",
       "    }\n",
       "\n",
       "    .dataframe tbody tr th {\n",
       "        vertical-align: top;\n",
       "    }\n",
       "\n",
       "    .dataframe thead th {\n",
       "        text-align: right;\n",
       "    }\n",
       "</style>\n",
       "<table border=\"1\" class=\"dataframe\">\n",
       "  <thead>\n",
       "    <tr style=\"text-align: right;\">\n",
       "      <th></th>\n",
       "      <th>scientific_name</th>\n",
       "      <th>park_name</th>\n",
       "      <th>observations</th>\n",
       "    </tr>\n",
       "  </thead>\n",
       "  <tbody>\n",
       "    <tr>\n",
       "      <th>2</th>\n",
       "      <td>Prunus subcordata</td>\n",
       "      <td>Yosemite National Park</td>\n",
       "      <td>138</td>\n",
       "    </tr>\n",
       "    <tr>\n",
       "      <th>4987</th>\n",
       "      <td>Prunus subcordata</td>\n",
       "      <td>Yellowstone National Park</td>\n",
       "      <td>217</td>\n",
       "    </tr>\n",
       "    <tr>\n",
       "      <th>8622</th>\n",
       "      <td>Prunus subcordata</td>\n",
       "      <td>Bryce National Park</td>\n",
       "      <td>91</td>\n",
       "    </tr>\n",
       "    <tr>\n",
       "      <th>16282</th>\n",
       "      <td>Prunus subcordata</td>\n",
       "      <td>Great Smoky Mountains National Park</td>\n",
       "      <td>72</td>\n",
       "    </tr>\n",
       "  </tbody>\n",
       "</table>\n",
       "</div>"
      ],
      "text/plain": [
       "         scientific_name                            park_name  observations\n",
       "2      Prunus subcordata               Yosemite National Park           138\n",
       "4987   Prunus subcordata            Yellowstone National Park           217\n",
       "8622   Prunus subcordata                  Bryce National Park            91\n",
       "16282  Prunus subcordata  Great Smoky Mountains National Park            72"
      ]
     },
     "execution_count": 6,
     "metadata": {},
     "output_type": "execute_result"
    }
   ],
   "source": [
    "# All the listings for Prunus subcordata - just exploring\n",
    "prun_sub = observations[observations['scientific_name'] == \"Prunus subcordata\"]\n",
    "prun_sub"
   ]
  },
  {
   "cell_type": "markdown",
   "metadata": {},
   "source": [
    "The **observations file** contains a vast number of records, 23,296 and it appears to be \"clean\":\n",
    "* There is no missing data.\n",
    "* In general every species has exactly one listing for each park, and none of the observations are zero - all species were observed multiple times in each of the four parks.\n",
    "* There are 15 rows which are true duplicates - all columns repeated.  However, this could be genuine - the same number of observations could have been made on different dates at the same park, so these aren't necessarily errors.\n",
    "* The spelling and punctuation is very consistant.\n",
    "* The column names are lower case without spaces, which makes them easy to use.\n",
    "* The data types are valid. If we want to perform any string functions on the names, we'll need to store them as strings rather than objects, but this is unlikely.\n",
    "* It looks like the Park names may have been picked against a list, so we may want to identify all the unique values to check that we don't have duplicates relating to data entry errors"
   ]
  },
  {
   "cell_type": "code",
   "execution_count": 7,
   "metadata": {},
   "outputs": [
    {
     "data": {
      "text/plain": [
       "['Great Smoky Mountains National Park',\n",
       " 'Yosemite National Park',\n",
       " 'Bryce National Park',\n",
       " 'Yellowstone National Park']"
      ]
     },
     "execution_count": 7,
     "metadata": {},
     "output_type": "execute_result"
    }
   ],
   "source": [
    "list(observations.park_name.unique())"
   ]
  },
  {
   "cell_type": "markdown",
   "metadata": {},
   "source": [
    "This is all good.  It looks like a suspiciously clean dataset used for teaching purposes!"
   ]
  },
  {
   "cell_type": "code",
   "execution_count": 8,
   "metadata": {},
   "outputs": [
    {
     "data": {
      "text/html": [
       "<div>\n",
       "<style scoped>\n",
       "    .dataframe tbody tr th:only-of-type {\n",
       "        vertical-align: middle;\n",
       "    }\n",
       "\n",
       "    .dataframe tbody tr th {\n",
       "        vertical-align: top;\n",
       "    }\n",
       "\n",
       "    .dataframe thead th {\n",
       "        text-align: right;\n",
       "    }\n",
       "</style>\n",
       "<table border=\"1\" class=\"dataframe\">\n",
       "  <thead>\n",
       "    <tr style=\"text-align: right;\">\n",
       "      <th></th>\n",
       "      <th>category</th>\n",
       "      <th>scientific_name</th>\n",
       "      <th>common_names</th>\n",
       "      <th>conservation_status</th>\n",
       "    </tr>\n",
       "  </thead>\n",
       "  <tbody>\n",
       "    <tr>\n",
       "      <th>0</th>\n",
       "      <td>Mammal</td>\n",
       "      <td>Clethrionomys gapperi gapperi</td>\n",
       "      <td>Gapper's Red-Backed Vole</td>\n",
       "      <td>NaN</td>\n",
       "    </tr>\n",
       "    <tr>\n",
       "      <th>1</th>\n",
       "      <td>Mammal</td>\n",
       "      <td>Bos bison</td>\n",
       "      <td>American Bison, Bison</td>\n",
       "      <td>NaN</td>\n",
       "    </tr>\n",
       "    <tr>\n",
       "      <th>2</th>\n",
       "      <td>Mammal</td>\n",
       "      <td>Bos taurus</td>\n",
       "      <td>Aurochs, Aurochs, Domestic Cattle (Feral), Dom...</td>\n",
       "      <td>NaN</td>\n",
       "    </tr>\n",
       "    <tr>\n",
       "      <th>3</th>\n",
       "      <td>Mammal</td>\n",
       "      <td>Ovis aries</td>\n",
       "      <td>Domestic Sheep, Mouflon, Red Sheep, Sheep (Feral)</td>\n",
       "      <td>NaN</td>\n",
       "    </tr>\n",
       "    <tr>\n",
       "      <th>4</th>\n",
       "      <td>Mammal</td>\n",
       "      <td>Cervus elaphus</td>\n",
       "      <td>Wapiti Or Elk</td>\n",
       "      <td>NaN</td>\n",
       "    </tr>\n",
       "  </tbody>\n",
       "</table>\n",
       "</div>"
      ],
      "text/plain": [
       "  category                scientific_name  \\\n",
       "0   Mammal  Clethrionomys gapperi gapperi   \n",
       "1   Mammal                      Bos bison   \n",
       "2   Mammal                     Bos taurus   \n",
       "3   Mammal                     Ovis aries   \n",
       "4   Mammal                 Cervus elaphus   \n",
       "\n",
       "                                        common_names conservation_status  \n",
       "0                           Gapper's Red-Backed Vole                 NaN  \n",
       "1                              American Bison, Bison                 NaN  \n",
       "2  Aurochs, Aurochs, Domestic Cattle (Feral), Dom...                 NaN  \n",
       "3  Domestic Sheep, Mouflon, Red Sheep, Sheep (Feral)                 NaN  \n",
       "4                                      Wapiti Or Elk                 NaN  "
      ]
     },
     "execution_count": 8,
     "metadata": {},
     "output_type": "execute_result"
    }
   ],
   "source": [
    "species_info.head()"
   ]
  },
  {
   "cell_type": "code",
   "execution_count": 9,
   "metadata": {},
   "outputs": [
    {
     "name": "stdout",
     "output_type": "stream",
     "text": [
      "<class 'pandas.core.frame.DataFrame'>\n",
      "RangeIndex: 5824 entries, 0 to 5823\n",
      "Data columns (total 4 columns):\n",
      " #   Column               Non-Null Count  Dtype \n",
      "---  ------               --------------  ----- \n",
      " 0   category             5824 non-null   object\n",
      " 1   scientific_name      5824 non-null   object\n",
      " 2   common_names         5824 non-null   object\n",
      " 3   conservation_status  191 non-null    object\n",
      "dtypes: object(4)\n",
      "memory usage: 182.1+ KB\n"
     ]
    }
   ],
   "source": [
    "species_info.info()"
   ]
  },
  {
   "cell_type": "markdown",
   "metadata": {},
   "source": [
    "Comments on the **Species File**:\n",
    "* It looks like the two dataframes can be linked via the scientific_name field.\n",
    "* The conservation_status column has a lot of missing data.\n",
    "* The common_names column has multiple comma-separated entries.\n",
    "\n",
    "Checking once again that the categories field has a relevant list of unique entries without duplicates caused by typos:"
   ]
  },
  {
   "cell_type": "code",
   "execution_count": 10,
   "metadata": {},
   "outputs": [
    {
     "data": {
      "text/plain": [
       "['Mammal',\n",
       " 'Bird',\n",
       " 'Reptile',\n",
       " 'Amphibian',\n",
       " 'Fish',\n",
       " 'Vascular Plant',\n",
       " 'Nonvascular Plant']"
      ]
     },
     "execution_count": 10,
     "metadata": {},
     "output_type": "execute_result"
    }
   ],
   "source": [
    "list(species_info.category.unique())"
   ]
  },
  {
   "cell_type": "code",
   "execution_count": 11,
   "metadata": {},
   "outputs": [
    {
     "name": "stdout",
     "output_type": "stream",
     "text": [
      "there are 5541 unique species in the observations dataframe\n",
      "there are 5541 unique species in the species_info dataframe\n"
     ]
    }
   ],
   "source": [
    "nunique_observations = observations.scientific_name.nunique()\n",
    "print(f\"there are {nunique_observations} unique species in the observations dataframe\")\n",
    "\n",
    "nunique_species = species_info.scientific_name.nunique()\n",
    "print(f\"there are {nunique_species} unique species in the species_info dataframe\")"
   ]
  },
  {
   "cell_type": "markdown",
   "metadata": {},
   "source": [
    "Following my observation that the two dataframes can be linked via the scientific_name field:</br>\n",
    "Intuitively you'd expect a one to many relationship where a species in the species_info data frame can have anything from 0 to many related entries in the observations dataframe, and that each possible species is listed once and once only in the species_info table.</br>\n",
    "However, it's a little counter-intuitive that the species_info table has 5541 unique species, but 5824 entries, so perhaps there are some duplicates. This needs further investigation."
   ]
  },
  {
   "cell_type": "markdown",
   "metadata": {},
   "source": [
    "## 3. Cleaning and Pre-Processing the data\n",
    "\n",
    "### What to do about the conservation status column having a lot of missing data?\n",
    "\n",
    "As a rule of thumb, fields with > 60% of data missing could just be removed"
   ]
  },
  {
   "cell_type": "code",
   "execution_count": 12,
   "metadata": {},
   "outputs": [
    {
     "name": "stdout",
     "output_type": "stream",
     "text": [
      "96.72%\n"
     ]
    }
   ],
   "source": [
    "prop_missing = species_info.conservation_status.isna().sum() / species_info.shape[0]\n",
    "print(f\"{prop_missing:.2%}\")"
   ]
  },
  {
   "cell_type": "markdown",
   "metadata": {},
   "source": [
    "This is such a high proportion it would normally make sense to drop the column, but have they left it missing to denote something?  Check unique values."
   ]
  },
  {
   "cell_type": "code",
   "execution_count": 13,
   "metadata": {},
   "outputs": [
    {
     "data": {
      "text/plain": [
       "conservation_status\n",
       "Species of Concern    161\n",
       "Endangered             16\n",
       "Threatened             10\n",
       "In Recovery             4\n",
       "Name: count, dtype: int64"
      ]
     },
     "execution_count": 13,
     "metadata": {},
     "output_type": "execute_result"
    }
   ],
   "source": [
    "species_info.conservation_status.value_counts()"
   ]
  },
  {
   "cell_type": "markdown",
   "metadata": {},
   "source": [
    "It looks like missing values may mean \"No Concern\", given that this is a value which surely ought to be present, but isn't.  Given the nature of the project, dropping the column doesn't make sense. It's not entirely a safe assumption that all missing values mean \"No Concern\" but none-the-less I have chosen to replace missing values in this column with \"No Concern\" in order to proceed with the analysis."
   ]
  },
  {
   "cell_type": "code",
   "execution_count": 14,
   "metadata": {},
   "outputs": [
    {
     "data": {
      "text/plain": [
       "conservation_status\n",
       "No Concern            5633\n",
       "Species of Concern     161\n",
       "Endangered              16\n",
       "Threatened              10\n",
       "In Recovery              4\n",
       "Name: count, dtype: int64"
      ]
     },
     "execution_count": 14,
     "metadata": {},
     "output_type": "execute_result"
    }
   ],
   "source": [
    "species_info['conservation_status'] = species_info['conservation_status'].fillna(\"No Concern\")\n",
    "species_info.conservation_status.value_counts()\n"
   ]
  },
  {
   "cell_type": "markdown",
   "metadata": {},
   "source": [
    "### What to do about duplicates of scientific names in the species info dataframe?"
   ]
  },
  {
   "cell_type": "markdown",
   "metadata": {},
   "source": [
    "If there are rows which are identical across all columns, there is no harm in just dropping them with drop_duplicates"
   ]
  },
  {
   "cell_type": "code",
   "execution_count": 15,
   "metadata": {},
   "outputs": [
    {
     "data": {
      "text/plain": [
       "0"
      ]
     },
     "execution_count": 15,
     "metadata": {},
     "output_type": "execute_result"
    }
   ],
   "source": [
    "len(species_info) - len(species_info.drop_duplicates())"
   ]
  },
  {
   "cell_type": "markdown",
   "metadata": {},
   "source": [
    "There weren't any simple ones.  But still, the species_info table has 5824 rows for 5541 unique species.  It must be that in some cases there are multiple rows for some species, but only the scientific names are duplicated, the rows aren't otherwise identical.<br>\n",
    "Will run duplicated, with keep = False argument, and sorted by scientific_name, to bunch together all relevant duplicates and have a look at them."
   ]
  },
  {
   "cell_type": "code",
   "execution_count": 16,
   "metadata": {},
   "outputs": [
    {
     "data": {
      "text/plain": [
       "557"
      ]
     },
     "execution_count": 16,
     "metadata": {},
     "output_type": "execute_result"
    }
   ],
   "source": [
    "duplicated_species = species_info[species_info.duplicated('scientific_name', keep=False)].sort_values(by=['scientific_name'])\n",
    "len(duplicated_species)"
   ]
  },
  {
   "cell_type": "code",
   "execution_count": 17,
   "metadata": {},
   "outputs": [
    {
     "name": "stdout",
     "output_type": "stream",
     "text": [
      "            category      scientific_name  \\\n",
      "5553  Vascular Plant  Agrostis capillaris   \n",
      "2132  Vascular Plant  Agrostis capillaris   \n",
      "2134  Vascular Plant    Agrostis gigantea   \n",
      "5554  Vascular Plant    Agrostis gigantea   \n",
      "4178  Vascular Plant   Agrostis mertensii   \n",
      "2136  Vascular Plant   Agrostis mertensii   \n",
      "2138  Vascular Plant      Agrostis scabra   \n",
      "5556  Vascular Plant      Agrostis scabra   \n",
      "\n",
      "                                  common_names conservation_status  \n",
      "5553         Colonial Bent, Colonial Bentgrass          No Concern  \n",
      "2132                         Rhode Island Bent          No Concern  \n",
      "2134                                    Redtop          No Concern  \n",
      "5554       Black Bent, Redtop, Water Bentgrass          No Concern  \n",
      "4178      Arctic Bentgrass, Northern Bentgrass          No Concern  \n",
      "2136                         Northern Agrostis          No Concern  \n",
      "2138          Rough Bentgrass, Rough Hairgrass          No Concern  \n",
      "5556  Rough Bent, Rough Bentgrass, Ticklegrass          No Concern  \n"
     ]
    }
   ],
   "source": [
    "print(duplicated_species.head(8))"
   ]
  },
  {
   "cell_type": "markdown",
   "metadata": {},
   "source": [
    "This confirms that there are duplicate entries for the same species, with different information in the common_names fields (and potentially the category or conservation_status fields, but that wasn't shown up in the first 8 rows, so first things first).\n",
    "\n",
    "We'll concatenate the common_names together, so as not to lose any information (as opposed to just deleting second or third rows outright).\n",
    "\n",
    "Not sure this is actually helpful for the project at hand, but it's good experience!"
   ]
  },
  {
   "cell_type": "code",
   "execution_count": 18,
   "metadata": {},
   "outputs": [
    {
     "data": {
      "text/plain": [
       "5543"
      ]
     },
     "execution_count": 18,
     "metadata": {},
     "output_type": "execute_result"
    }
   ],
   "source": [
    "species_info = species_info.groupby(['category', 'scientific_name', 'conservation_status']).agg({'common_names': ', '.join}).reset_index()\n",
    "len(species_info)"
   ]
  },
  {
   "cell_type": "markdown",
   "metadata": {},
   "source": [
    "We still have two duplicate rows:  5543 rows for 5541 scientifi names.  Lets look at these two individually."
   ]
  },
  {
   "cell_type": "code",
   "execution_count": 19,
   "metadata": {},
   "outputs": [
    {
     "name": "stdout",
     "output_type": "stream",
     "text": [
      "    category      scientific_name conservation_status  \\\n",
      "705   Mammal          Canis lupus          Endangered   \n",
      "706   Mammal          Canis lupus         In Recovery   \n",
      "664     Fish  Oncorhynchus mykiss          No Concern   \n",
      "665     Fish  Oncorhynchus mykiss          Threatened   \n",
      "\n",
      "                   common_names  \n",
      "705  Gray Wolf, Gray Wolf, Wolf  \n",
      "706             Gray Wolf, Wolf  \n",
      "664               Rainbow Trout  \n",
      "665               Rainbow Trout  \n"
     ]
    }
   ],
   "source": [
    "duplicated_species = species_info[species_info.duplicated('scientific_name', keep=False)].sort_values(by=['scientific_name'])\n",
    "print(duplicated_species)"
   ]
  },
  {
   "cell_type": "markdown",
   "metadata": {},
   "source": [
    "These two duplicates weren't dealt with in the previous step because they have different conservation statuses.  I'll assume that #706 is more accurate than #705 (since those statuses feel sequential) and that 665 is more correct that 664 (because 'No Concern' was automatically inserted for missing data). \n",
    " I'll just manually remove #705 and #664."
   ]
  },
  {
   "cell_type": "code",
   "execution_count": 20,
   "metadata": {},
   "outputs": [
    {
     "name": "stdout",
     "output_type": "stream",
     "text": [
      "5541\n",
      "5541\n"
     ]
    }
   ],
   "source": [
    "species_info = species_info.drop([705, 664])\n",
    "print(species_info.shape[0])\n",
    "print(species_info.scientific_name.nunique())"
   ]
  },
  {
   "cell_type": "markdown",
   "metadata": {},
   "source": [
    "Are the 5541 species in the Species Info dataframe the same as the 5541 in the Observations dataframe?"
   ]
  },
  {
   "cell_type": "code",
   "execution_count": 21,
   "metadata": {},
   "outputs": [
    {
     "name": "stdout",
     "output_type": "stream",
     "text": [
      "The lists are identical\n"
     ]
    }
   ],
   "source": [
    "species_in_species_info = list(species_info.scientific_name.unique())\n",
    "species_in_observations = list(observations.scientific_name.unique())\n",
    "\n",
    "if species_in_species_info.sort() == species_in_observations.sort():\n",
    "    print(\"The lists are identical\")\n",
    "else:\n",
    "    print(\"The lists are not identical\")"
   ]
  },
  {
   "cell_type": "markdown",
   "metadata": {},
   "source": [
    "Good result: the Species Info dataframe now acts as a comprehensive list of the species in the Observations dataframe with one listing for each species."
   ]
  },
  {
   "cell_type": "markdown",
   "metadata": {},
   "source": [
    "### Giving the conservation status categories a logical order"
   ]
  },
  {
   "cell_type": "code",
   "execution_count": 22,
   "metadata": {},
   "outputs": [
    {
     "data": {
      "text/plain": [
       "array(['No Concern', 'Threatened', 'Species of Concern', 'Endangered',\n",
       "       'In Recovery'], dtype=object)"
      ]
     },
     "execution_count": 22,
     "metadata": {},
     "output_type": "execute_result"
    }
   ],
   "source": [
    "species_info.conservation_status.unique()"
   ]
  },
  {
   "cell_type": "code",
   "execution_count": 23,
   "metadata": {},
   "outputs": [],
   "source": [
    "species_info.conservation_status = pd.Categorical(species_info.conservation_status, \n",
    "    ['No Concern', 'In Recovery', 'Species of Concern', 'Threatened', 'Endangered'], ordered = True)"
   ]
  },
  {
   "cell_type": "code",
   "execution_count": 24,
   "metadata": {},
   "outputs": [
    {
     "data": {
      "text/plain": [
       "['No Concern', 'Threatened', 'Species of Concern', 'Endangered', 'In Recovery']\n",
       "Categories (5, object): ['No Concern' < 'In Recovery' < 'Species of Concern' < 'Threatened' < 'Endangered']"
      ]
     },
     "execution_count": 24,
     "metadata": {},
     "output_type": "execute_result"
    }
   ],
   "source": [
    "species_info.conservation_status.unique()"
   ]
  },
  {
   "cell_type": "markdown",
   "metadata": {},
   "source": [
    "### Aggregating the observations counts from one dataframe into the other dataframe\n",
    "\n",
    "First groupby to sum the observations counts, storing as a dataframe"
   ]
  },
  {
   "cell_type": "code",
   "execution_count": 25,
   "metadata": {},
   "outputs": [
    {
     "name": "stdout",
     "output_type": "stream",
     "text": [
      "                          scientific_name  observations\n",
      "0                           Abies bifolia           532\n",
      "1                          Abies concolor           630\n",
      "2                           Abies fraseri           518\n",
      "3                    Abietinella abietina           592\n",
      "4                       Abronia ammophila           523\n",
      "...                                   ...           ...\n",
      "5536      Zonotrichia leucophrys gambelii           560\n",
      "5537      Zonotrichia leucophrys oriantha           558\n",
      "5538                  Zonotrichia querula           616\n",
      "5539                 Zygodon viridissimus           600\n",
      "5540  Zygodon viridissimus var. rupestris           651\n",
      "\n",
      "[5541 rows x 2 columns]\n"
     ]
    }
   ],
   "source": [
    "obs_count = observations.groupby('scientific_name').observations.sum().to_frame().reset_index()\n",
    "print(obs_count)"
   ]
  },
  {
   "cell_type": "markdown",
   "metadata": {},
   "source": [
    "Now merge into a new combined dataframe"
   ]
  },
  {
   "cell_type": "code",
   "execution_count": 26,
   "metadata": {},
   "outputs": [
    {
     "name": "stdout",
     "output_type": "stream",
     "text": [
      "    category                    scientific_name conservation_status  \\\n",
      "0  Amphibian          Acris crepitans crepitans          No Concern   \n",
      "1  Amphibian                Ambystoma maculatum          No Concern   \n",
      "2  Amphibian  Ambystoma mavortium melanostictum          No Concern   \n",
      "3  Amphibian                   Ambystoma opacum          No Concern   \n",
      "4  Amphibian               Ambystoma talpoideum          No Concern   \n",
      "\n",
      "                common_names  observations  \n",
      "0      Northern Cricket Frog           531  \n",
      "1         Spotted Salamander           539  \n",
      "2  Blotched Tiger Salamander           607  \n",
      "3         Marbled Salamander           661  \n",
      "4            Mole Salamander           546  \n"
     ]
    }
   ],
   "source": [
    "species_with_counts = species_info.merge(obs_count)\n",
    "print(species_with_counts.head())"
   ]
  },
  {
   "cell_type": "code",
   "execution_count": 27,
   "metadata": {},
   "outputs": [
    {
     "name": "stdout",
     "output_type": "stream",
     "text": [
      "           scientific_name                            park_name  observations\n",
      "1295   Ambystoma maculatum               Yosemite National Park           163\n",
      "3293   Ambystoma maculatum            Yellowstone National Park           233\n",
      "16111  Ambystoma maculatum                  Bryce National Park            92\n",
      "17054  Ambystoma maculatum  Great Smoky Mountains National Park            51\n"
     ]
    }
   ],
   "source": [
    "# Just checking a single species to be sure the groupby worked as expected\n",
    "obs_ambymac = observations[observations['scientific_name'] == \"Ambystoma maculatum\"]\n",
    "print(obs_ambymac)"
   ]
  },
  {
   "cell_type": "markdown",
   "metadata": {},
   "source": [
    "### Adding the species category into the observations dataframe"
   ]
  },
  {
   "cell_type": "code",
   "execution_count": 28,
   "metadata": {},
   "outputs": [
    {
     "name": "stdout",
     "output_type": "stream",
     "text": [
      "            scientific_name                            park_name  \\\n",
      "0        Vicia benghalensis  Great Smoky Mountains National Park   \n",
      "1            Neovison vison  Great Smoky Mountains National Park   \n",
      "2         Prunus subcordata               Yosemite National Park   \n",
      "3      Abutilon theophrasti                  Bryce National Park   \n",
      "4  Githopsis specularioides  Great Smoky Mountains National Park   \n",
      "\n",
      "   observations        category  \n",
      "0            68  Vascular Plant  \n",
      "1            77          Mammal  \n",
      "2           138  Vascular Plant  \n",
      "3            84  Vascular Plant  \n",
      "4            85  Vascular Plant  \n"
     ]
    }
   ],
   "source": [
    "obs_with_cats = observations.merge(species_info[['scientific_name','category']])\n",
    "print(obs_with_cats.head())"
   ]
  },
  {
   "cell_type": "markdown",
   "metadata": {},
   "source": [
    "## 4. Exploratory Data Analysis\n",
    "\n",
    "### Which categories have the highest average number of observations per species?\n",
    "\n",
    "First as table using groupby, then as chart using sns barplot"
   ]
  },
  {
   "cell_type": "code",
   "execution_count": 29,
   "metadata": {},
   "outputs": [
    {
     "name": "stdout",
     "output_type": "stream",
     "text": [
      "            category  observations\n",
      "0             Mammal         663.0\n",
      "1               Bird         600.1\n",
      "2     Vascular Plant         599.5\n",
      "3            Reptile         572.8\n",
      "4  Nonvascular Plant         572.5\n",
      "5               Fish         566.5\n",
      "6          Amphibian         556.6\n"
     ]
    }
   ],
   "source": [
    "counts_by_category = round(species_with_counts.groupby('category').observations.mean().sort_values(ascending = False),1).to_frame().reset_index()\n",
    "print(counts_by_category)"
   ]
  },
  {
   "cell_type": "code",
   "execution_count": 30,
   "metadata": {},
   "outputs": [
    {
     "data": {
      "text/plain": [
       "([0, 1, 2, 3, 4, 5, 6],\n",
       " [Text(0, 0, 'Amphibian'),\n",
       "  Text(1, 0, 'Bird'),\n",
       "  Text(2, 0, 'Fish'),\n",
       "  Text(3, 0, 'Mammal'),\n",
       "  Text(4, 0, 'Nonvascular Plant'),\n",
       "  Text(5, 0, 'Reptile'),\n",
       "  Text(6, 0, 'Vascular Plant')])"
      ]
     },
     "execution_count": 30,
     "metadata": {},
     "output_type": "execute_result"
    },
    {
     "data": {
      "image/png": "[encoded data removed]",
      "text/plain": [
       "<Figure size 640x480 with 1 Axes>"
      ]
     },
     "metadata": {},
     "output_type": "display_data"
    }
   ],
   "source": [
    "sns.barplot(x = 'category', y ='observations', data = species_with_counts, hue = 'category')\n",
    "plt.xlabel(\"Category\")\n",
    "plt.ylabel(\"Average Observations\")\n",
    "plt.title(\"Average Observations per Species by Category\")\n",
    "plt.xticks(rotation=\"vertical\")"
   ]
  },
  {
   "cell_type": "markdown",
   "metadata": {},
   "source": [
    "The mammals tended to have the highest number of observations per species, perhaps because they're relatively big and easy to spot."
   ]
  },
  {
   "cell_type": "markdown",
   "metadata": {},
   "source": [
    "### Which are the most frequently and least frequently observed species?"
   ]
  },
  {
   "cell_type": "code",
   "execution_count": 31,
   "metadata": {},
   "outputs": [
    {
     "data": {
      "text/html": [
       "<div>\n",
       "<style scoped>\n",
       "    .dataframe tbody tr th:only-of-type {\n",
       "        vertical-align: middle;\n",
       "    }\n",
       "\n",
       "    .dataframe tbody tr th {\n",
       "        vertical-align: top;\n",
       "    }\n",
       "\n",
       "    .dataframe thead th {\n",
       "        text-align: right;\n",
       "    }\n",
       "</style>\n",
       "<table border=\"1\" class=\"dataframe\">\n",
       "  <thead>\n",
       "    <tr style=\"text-align: right;\">\n",
       "      <th></th>\n",
       "      <th>category</th>\n",
       "      <th>scientific_name</th>\n",
       "      <th>conservation_status</th>\n",
       "      <th>common_names</th>\n",
       "      <th>observations</th>\n",
       "    </tr>\n",
       "  </thead>\n",
       "  <tbody>\n",
       "    <tr>\n",
       "      <th>507</th>\n",
       "      <td>Bird</td>\n",
       "      <td>Streptopelia decaocto</td>\n",
       "      <td>No Concern</td>\n",
       "      <td>Eurasian Collared-Dove, Eurasian Collared Dove...</td>\n",
       "      <td>1785</td>\n",
       "    </tr>\n",
       "    <tr>\n",
       "      <th>3188</th>\n",
       "      <td>Vascular Plant</td>\n",
       "      <td>Holcus lanatus</td>\n",
       "      <td>No Concern</td>\n",
       "      <td>Common Velvet Grass, Velvetgrass, Common Velve...</td>\n",
       "      <td>1780</td>\n",
       "    </tr>\n",
       "    <tr>\n",
       "      <th>706</th>\n",
       "      <td>Mammal</td>\n",
       "      <td>Castor canadensis</td>\n",
       "      <td>No Concern</td>\n",
       "      <td>American Beaver, Beaver, American Beaver, Beaver</td>\n",
       "      <td>1725</td>\n",
       "    </tr>\n",
       "    <tr>\n",
       "      <th>3260</th>\n",
       "      <td>Vascular Plant</td>\n",
       "      <td>Hypochaeris radicata</td>\n",
       "      <td>No Concern</td>\n",
       "      <td>Cat's Ear, Spotted Cat's-Ear, Spotted Cats-Ear...</td>\n",
       "      <td>1720</td>\n",
       "    </tr>\n",
       "    <tr>\n",
       "      <th>807</th>\n",
       "      <td>Mammal</td>\n",
       "      <td>Puma concolor</td>\n",
       "      <td>No Concern</td>\n",
       "      <td>Panther (Mountain Lion), Cougar, Mountain Lion...</td>\n",
       "      <td>1711</td>\n",
       "    </tr>\n",
       "  </tbody>\n",
       "</table>\n",
       "</div>"
      ],
      "text/plain": [
       "            category        scientific_name conservation_status  \\\n",
       "507             Bird  Streptopelia decaocto          No Concern   \n",
       "3188  Vascular Plant         Holcus lanatus          No Concern   \n",
       "706           Mammal      Castor canadensis          No Concern   \n",
       "3260  Vascular Plant   Hypochaeris radicata          No Concern   \n",
       "807           Mammal          Puma concolor          No Concern   \n",
       "\n",
       "                                           common_names  observations  \n",
       "507   Eurasian Collared-Dove, Eurasian Collared Dove...          1785  \n",
       "3188  Common Velvet Grass, Velvetgrass, Common Velve...          1780  \n",
       "706    American Beaver, Beaver, American Beaver, Beaver          1725  \n",
       "3260  Cat's Ear, Spotted Cat's-Ear, Spotted Cats-Ear...          1720  \n",
       "807   Panther (Mountain Lion), Cougar, Mountain Lion...          1711  "
      ]
     },
     "execution_count": 31,
     "metadata": {},
     "output_type": "execute_result"
    }
   ],
   "source": [
    "top_5 = species_with_counts.sort_values(by=['observations'], ascending = False)[:5]\n",
    "top_5"
   ]
  },
  {
   "cell_type": "code",
   "execution_count": 32,
   "metadata": {},
   "outputs": [
    {
     "data": {
      "text/html": [
       "<div>\n",
       "<style scoped>\n",
       "    .dataframe tbody tr th:only-of-type {\n",
       "        vertical-align: middle;\n",
       "    }\n",
       "\n",
       "    .dataframe tbody tr th {\n",
       "        vertical-align: top;\n",
       "    }\n",
       "\n",
       "    .dataframe thead th {\n",
       "        text-align: right;\n",
       "    }\n",
       "</style>\n",
       "<table border=\"1\" class=\"dataframe\">\n",
       "  <thead>\n",
       "    <tr style=\"text-align: right;\">\n",
       "      <th></th>\n",
       "      <th>category</th>\n",
       "      <th>scientific_name</th>\n",
       "      <th>conservation_status</th>\n",
       "      <th>common_names</th>\n",
       "      <th>observations</th>\n",
       "    </tr>\n",
       "  </thead>\n",
       "  <tbody>\n",
       "    <tr>\n",
       "      <th>284</th>\n",
       "      <td>Bird</td>\n",
       "      <td>Grus americana</td>\n",
       "      <td>Endangered</td>\n",
       "      <td>Whooping Crane</td>\n",
       "      <td>131</td>\n",
       "    </tr>\n",
       "    <tr>\n",
       "      <th>705</th>\n",
       "      <td>Mammal</td>\n",
       "      <td>Canis rufus</td>\n",
       "      <td>Endangered</td>\n",
       "      <td>Red Wolf</td>\n",
       "      <td>137</td>\n",
       "    </tr>\n",
       "    <tr>\n",
       "      <th>537</th>\n",
       "      <td>Bird</td>\n",
       "      <td>Vermivora bachmanii</td>\n",
       "      <td>Endangered</td>\n",
       "      <td>Bachman's Warbler, Bachman's Wood Warbler</td>\n",
       "      <td>141</td>\n",
       "    </tr>\n",
       "    <tr>\n",
       "      <th>657</th>\n",
       "      <td>Fish</td>\n",
       "      <td>Noturus baileyi</td>\n",
       "      <td>Endangered</td>\n",
       "      <td>Smoky Madtom</td>\n",
       "      <td>143</td>\n",
       "    </tr>\n",
       "    <tr>\n",
       "      <th>72</th>\n",
       "      <td>Amphibian</td>\n",
       "      <td>Rana sierrae</td>\n",
       "      <td>Endangered</td>\n",
       "      <td>Sierra Nevada Yellow-Legged Frog</td>\n",
       "      <td>144</td>\n",
       "    </tr>\n",
       "  </tbody>\n",
       "</table>\n",
       "</div>"
      ],
      "text/plain": [
       "      category      scientific_name conservation_status  \\\n",
       "284       Bird       Grus americana          Endangered   \n",
       "705     Mammal          Canis rufus          Endangered   \n",
       "537       Bird  Vermivora bachmanii          Endangered   \n",
       "657       Fish      Noturus baileyi          Endangered   \n",
       "72   Amphibian         Rana sierrae          Endangered   \n",
       "\n",
       "                                  common_names  observations  \n",
       "284                             Whooping Crane           131  \n",
       "705                                   Red Wolf           137  \n",
       "537  Bachman's Warbler, Bachman's Wood Warbler           141  \n",
       "657                               Smoky Madtom           143  \n",
       "72            Sierra Nevada Yellow-Legged Frog           144  "
      ]
     },
     "execution_count": 32,
     "metadata": {},
     "output_type": "execute_result"
    }
   ],
   "source": [
    "bottom_5 = species_with_counts.sort_values(by=['observations'])[:5]\n",
    "bottom_5"
   ]
  },
  {
   "cell_type": "markdown",
   "metadata": {},
   "source": [
    "Interstingly, the most and least frequently seen species were both birds.<br>\n",
    "Unsurprisingly, the most frequently seen species all had the conservation status \"No Concern\", and the least frequently seen species were listed as \"Endangered\"."
   ]
  },
  {
   "cell_type": "markdown",
   "metadata": {},
   "source": [
    "### Are all of the 'Endangered' species seen less than all of the 'No Concern' species, or is there some overlap?\n",
    "\n",
    "Side by side boxplots will help with this."
   ]
  },
  {
   "cell_type": "code",
   "execution_count": 33,
   "metadata": {},
   "outputs": [
    {
     "data": {
      "text/plain": [
       "([0, 1, 2, 3, 4],\n",
       " [Text(0, 0, 'No Concern'),\n",
       "  Text(1, 0, 'In Recovery'),\n",
       "  Text(2, 0, 'Species of Concern'),\n",
       "  Text(3, 0, 'Threatened'),\n",
       "  Text(4, 0, 'Endangered')])"
      ]
     },
     "execution_count": 33,
     "metadata": {},
     "output_type": "execute_result"
    },
    {
     "data": {
      "image/png": "[encoded data removed]",
      "text/plain": [
       "<Figure size 640x480 with 1 Axes>"
      ]
     },
     "metadata": {},
     "output_type": "display_data"
    }
   ],
   "source": [
    "sns.boxplot(data = species_with_counts, x = \"conservation_status\", y = \"observations\", hue = \"conservation_status\", palette = \"bright\")\n",
    "plt.title(\"Sightings per Species by Conservation Status\")\n",
    "plt.xlabel(\"Conservation status\")\n",
    "plt.ylabel(\"Sightings per species\")\n",
    "plt.xticks(rotation=\"vertical\")"
   ]
  },
  {
   "cell_type": "markdown",
   "metadata": {},
   "source": [
    "The conservation statuses clearly relate to the average number of observations per species.<br>\n",
    "There is no overlap between \"no concern\" and \"endangered\" - there are no outliers where an endangered species was observed more often than a species of no concern."
   ]
  },
  {
   "cell_type": "markdown",
   "metadata": {},
   "source": [
    "### Which categories are most likely to be endangered?"
   ]
  },
  {
   "cell_type": "code",
   "execution_count": 34,
   "metadata": {},
   "outputs": [
    {
     "data": {
      "text/html": [
       "<div>\n",
       "<style scoped>\n",
       "    .dataframe tbody tr th:only-of-type {\n",
       "        vertical-align: middle;\n",
       "    }\n",
       "\n",
       "    .dataframe tbody tr th {\n",
       "        vertical-align: top;\n",
       "    }\n",
       "\n",
       "    .dataframe thead th {\n",
       "        text-align: right;\n",
       "    }\n",
       "</style>\n",
       "<table border=\"1\" class=\"dataframe\">\n",
       "  <thead>\n",
       "    <tr style=\"text-align: right;\">\n",
       "      <th>category</th>\n",
       "      <th>Amphibian</th>\n",
       "      <th>Bird</th>\n",
       "      <th>Fish</th>\n",
       "      <th>Mammal</th>\n",
       "      <th>Nonvascular Plant</th>\n",
       "      <th>Reptile</th>\n",
       "      <th>Vascular Plant</th>\n",
       "    </tr>\n",
       "    <tr>\n",
       "      <th>conservation_status</th>\n",
       "      <th></th>\n",
       "      <th></th>\n",
       "      <th></th>\n",
       "      <th></th>\n",
       "      <th></th>\n",
       "      <th></th>\n",
       "      <th></th>\n",
       "    </tr>\n",
       "  </thead>\n",
       "  <tbody>\n",
       "    <tr>\n",
       "      <th>No Concern</th>\n",
       "      <td>91.1</td>\n",
       "      <td>84.6</td>\n",
       "      <td>91.2</td>\n",
       "      <td>83.0</td>\n",
       "      <td>98.5</td>\n",
       "      <td>93.6</td>\n",
       "      <td>98.9</td>\n",
       "    </tr>\n",
       "    <tr>\n",
       "      <th>In Recovery</th>\n",
       "      <td>0.0</td>\n",
       "      <td>0.6</td>\n",
       "      <td>0.0</td>\n",
       "      <td>0.6</td>\n",
       "      <td>0.0</td>\n",
       "      <td>0.0</td>\n",
       "      <td>0.0</td>\n",
       "    </tr>\n",
       "    <tr>\n",
       "      <th>Species of Concern</th>\n",
       "      <td>5.1</td>\n",
       "      <td>13.9</td>\n",
       "      <td>3.2</td>\n",
       "      <td>12.5</td>\n",
       "      <td>1.5</td>\n",
       "      <td>6.4</td>\n",
       "      <td>1.0</td>\n",
       "    </tr>\n",
       "    <tr>\n",
       "      <th>Threatened</th>\n",
       "      <td>2.5</td>\n",
       "      <td>0.0</td>\n",
       "      <td>3.2</td>\n",
       "      <td>1.1</td>\n",
       "      <td>0.0</td>\n",
       "      <td>0.0</td>\n",
       "      <td>0.0</td>\n",
       "    </tr>\n",
       "    <tr>\n",
       "      <th>Endangered</th>\n",
       "      <td>1.3</td>\n",
       "      <td>0.8</td>\n",
       "      <td>2.4</td>\n",
       "      <td>2.8</td>\n",
       "      <td>0.0</td>\n",
       "      <td>0.0</td>\n",
       "      <td>0.0</td>\n",
       "    </tr>\n",
       "  </tbody>\n",
       "</table>\n",
       "</div>"
      ],
      "text/plain": [
       "category             Amphibian  Bird  Fish  Mammal  Nonvascular Plant  \\\n",
       "conservation_status                                                     \n",
       "No Concern                91.1  84.6  91.2    83.0               98.5   \n",
       "In Recovery                0.0   0.6   0.0     0.6                0.0   \n",
       "Species of Concern         5.1  13.9   3.2    12.5                1.5   \n",
       "Threatened                 2.5   0.0   3.2     1.1                0.0   \n",
       "Endangered                 1.3   0.8   2.4     2.8                0.0   \n",
       "\n",
       "category             Reptile  Vascular Plant  \n",
       "conservation_status                           \n",
       "No Concern              93.6            98.9  \n",
       "In Recovery              0.0             0.0  \n",
       "Species of Concern       6.4             1.0  \n",
       "Threatened               0.0             0.0  \n",
       "Endangered               0.0             0.0  "
      ]
     },
     "execution_count": 34,
     "metadata": {},
     "output_type": "execute_result"
    }
   ],
   "source": [
    "categories_by_conservation = round(pd.crosstab(species_info.conservation_status, species_info.category, normalize='columns') * 100, 1)\n",
    "categories_by_conservation"
   ]
  },
  {
   "cell_type": "markdown",
   "metadata": {},
   "source": [
    "The above table shows the % of species in a category which have each of the conversations statuses.<br>\n",
    "The mammals seem to be the most threatened - only 83% of mammal species are of \"No Concern\", which is lower than any of the other species categories, and 2.8% of mammal species are \"Endangered\" which is higher than any of the other species categories.<br>\n",
    "The vascular plants seem to be the least threatened - 98.9% are of \"No Concern\".<br>\n",
    "It appears that mammals are more likely to be endangered, so let's examine the potential correlation between mammals / not mammals, and endangered / not endangered using Chi Squared.  That is - is that 2.8% on the final row significantly higher than the other figures on that row?  The null hypothesis being that mammals are no more or less likely to be endangered than non-mammals.<br>\n",
    "Start by looking up the figures for the contingency table."
   ]
  },
  {
   "cell_type": "code",
   "execution_count": 35,
   "metadata": {},
   "outputs": [
    {
     "data": {
      "text/html": [
       "<div>\n",
       "<style scoped>\n",
       "    .dataframe tbody tr th:only-of-type {\n",
       "        vertical-align: middle;\n",
       "    }\n",
       "\n",
       "    .dataframe tbody tr th {\n",
       "        vertical-align: top;\n",
       "    }\n",
       "\n",
       "    .dataframe thead th {\n",
       "        text-align: right;\n",
       "    }\n",
       "</style>\n",
       "<table border=\"1\" class=\"dataframe\">\n",
       "  <thead>\n",
       "    <tr style=\"text-align: right;\">\n",
       "      <th>category</th>\n",
       "      <th>Amphibian</th>\n",
       "      <th>Bird</th>\n",
       "      <th>Fish</th>\n",
       "      <th>Mammal</th>\n",
       "      <th>Nonvascular Plant</th>\n",
       "      <th>Reptile</th>\n",
       "      <th>Vascular Plant</th>\n",
       "      <th>Total</th>\n",
       "    </tr>\n",
       "    <tr>\n",
       "      <th>conservation_status</th>\n",
       "      <th></th>\n",
       "      <th></th>\n",
       "      <th></th>\n",
       "      <th></th>\n",
       "      <th></th>\n",
       "      <th></th>\n",
       "      <th></th>\n",
       "      <th></th>\n",
       "    </tr>\n",
       "  </thead>\n",
       "  <tbody>\n",
       "    <tr>\n",
       "      <th>No Concern</th>\n",
       "      <td>72</td>\n",
       "      <td>413</td>\n",
       "      <td>114</td>\n",
       "      <td>146</td>\n",
       "      <td>328</td>\n",
       "      <td>73</td>\n",
       "      <td>4216</td>\n",
       "      <td>5362</td>\n",
       "    </tr>\n",
       "    <tr>\n",
       "      <th>In Recovery</th>\n",
       "      <td>0</td>\n",
       "      <td>3</td>\n",
       "      <td>0</td>\n",
       "      <td>1</td>\n",
       "      <td>0</td>\n",
       "      <td>0</td>\n",
       "      <td>0</td>\n",
       "      <td>4</td>\n",
       "    </tr>\n",
       "    <tr>\n",
       "      <th>Species of Concern</th>\n",
       "      <td>4</td>\n",
       "      <td>68</td>\n",
       "      <td>4</td>\n",
       "      <td>22</td>\n",
       "      <td>5</td>\n",
       "      <td>5</td>\n",
       "      <td>43</td>\n",
       "      <td>151</td>\n",
       "    </tr>\n",
       "    <tr>\n",
       "      <th>Threatened</th>\n",
       "      <td>2</td>\n",
       "      <td>0</td>\n",
       "      <td>4</td>\n",
       "      <td>2</td>\n",
       "      <td>0</td>\n",
       "      <td>0</td>\n",
       "      <td>2</td>\n",
       "      <td>10</td>\n",
       "    </tr>\n",
       "    <tr>\n",
       "      <th>Endangered</th>\n",
       "      <td>1</td>\n",
       "      <td>4</td>\n",
       "      <td>3</td>\n",
       "      <td>5</td>\n",
       "      <td>0</td>\n",
       "      <td>0</td>\n",
       "      <td>1</td>\n",
       "      <td>14</td>\n",
       "    </tr>\n",
       "    <tr>\n",
       "      <th>Total</th>\n",
       "      <td>79</td>\n",
       "      <td>488</td>\n",
       "      <td>125</td>\n",
       "      <td>176</td>\n",
       "      <td>333</td>\n",
       "      <td>78</td>\n",
       "      <td>4262</td>\n",
       "      <td>5541</td>\n",
       "    </tr>\n",
       "  </tbody>\n",
       "</table>\n",
       "</div>"
      ],
      "text/plain": [
       "category             Amphibian  Bird  Fish  Mammal  Nonvascular Plant  \\\n",
       "conservation_status                                                     \n",
       "No Concern                  72   413   114     146                328   \n",
       "In Recovery                  0     3     0       1                  0   \n",
       "Species of Concern           4    68     4      22                  5   \n",
       "Threatened                   2     0     4       2                  0   \n",
       "Endangered                   1     4     3       5                  0   \n",
       "Total                       79   488   125     176                333   \n",
       "\n",
       "category             Reptile  Vascular Plant  Total  \n",
       "conservation_status                                  \n",
       "No Concern                73            4216   5362  \n",
       "In Recovery                0               0      4  \n",
       "Species of Concern         5              43    151  \n",
       "Threatened                 0               2     10  \n",
       "Endangered                 0               1     14  \n",
       "Total                     78            4262   5541  "
      ]
     },
     "execution_count": 35,
     "metadata": {},
     "output_type": "execute_result"
    }
   ],
   "source": [
    "categories_by_conservation_figs = pd.crosstab(species_info.conservation_status, species_info.category, margins=True, margins_name='Total')\n",
    "categories_by_conservation_figs"
   ]
  },
  {
   "cell_type": "markdown",
   "metadata": {},
   "source": [
    "Next I create and print the contingency table, perform the Chi Squared hypothesis test, and print out the p value."
   ]
  },
  {
   "cell_type": "code",
   "execution_count": 36,
   "metadata": {},
   "outputs": [
    {
     "name": "stdout",
     "output_type": "stream",
     "text": [
      "5 171\n",
      "14 5527\n",
      "The p-value to 4dp is 0.0000\n"
     ]
    }
   ],
   "source": [
    "mammal_not_endangered = 176 - 5\n",
    "mammal_endangered = 5\n",
    "not_mammel_not_endangered = 5541 - 14\n",
    "not_mammel_endangered = 14\n",
    "\n",
    "mammal_endangered_contingency_table = [[mammal_endangered, mammal_not_endangered],[not_mammel_endangered, not_mammel_not_endangered]]\n",
    "\n",
    "for figure in mammal_endangered_contingency_table:\n",
    "    print (*figure)\n",
    "    \n",
    "chi2, pval, dof, expected = chi2_contingency(mammal_endangered_contingency_table)\n",
    "print(f\"The p-value to 4dp is {pval:.4f}\")"
   ]
  },
  {
   "cell_type": "markdown",
   "metadata": {},
   "source": [
    "This p value is well under 0.05, so it appears that there is a significant correlation between whether a species is classed as \"endangered\" and whether or not it is a mammal.  Mammals are more likely to be endangered."
   ]
  },
  {
   "cell_type": "markdown",
   "metadata": {},
   "source": [
    "### Are there particular parks which are best for observing particular categories of species?\n",
    "\n",
    "First make a pivot table of parks vs categories, with observation counts."
   ]
  },
  {
   "cell_type": "code",
   "execution_count": 37,
   "metadata": {},
   "outputs": [
    {
     "data": {
      "text/plain": [
       "([0, 1, 2, 3],\n",
       " [Text(0, 0, 'Bryce National Park'),\n",
       "  Text(1, 0, 'Great Smoky Mountains National Park'),\n",
       "  Text(2, 0, 'Yellowstone National Park'),\n",
       "  Text(3, 0, 'Yosemite National Park')])"
      ]
     },
     "execution_count": 37,
     "metadata": {},
     "output_type": "execute_result"
    },
    {
     "data": {
      "image/png": "[encoded data removed]",
      "text/plain": [
       "<Figure size 640x480 with 1 Axes>"
      ]
     },
     "metadata": {},
     "output_type": "display_data"
    }
   ],
   "source": [
    "park_cat_totals = obs_with_cats.groupby(['park_name','category']).observations.sum().to_frame().reset_index()\n",
    "\n",
    "sns.histplot(park_cat_totals, x='park_name', hue='category', weights = 'observations', multiple='stack', palette = 'bright')\n",
    "plt.xlabel(\"Park Name\")\n",
    "plt.ylabel(\"Number of Observations in Millions\")\n",
    "plt.title(\"Total Observations of each Category by Park\")\n",
    "plt.xticks(rotation=\"vertical\")"
   ]
  },
  {
   "cell_type": "markdown",
   "metadata": {},
   "source": [
    "Stacked bar charts aren't popular, but I think this one is useful\n",
    "* Yellowstone has the most observations, so whatever you want to see head there.\n",
    "* Wherever you go, a lot of the species you see are likely to be vascular plants, because there are a lot of different species of vascular plants.\n",
    "* The proportions of each category appear to be roughly similar everywhere, so I won't investigate that any further, but will turn to individual species."
   ]
  },
  {
   "cell_type": "markdown",
   "metadata": {},
   "source": [
    "### Are there particular parks which are best for observing particular individual species?"
   ]
  },
  {
   "cell_type": "code",
   "execution_count": 38,
   "metadata": {},
   "outputs": [
    {
     "data": {
      "text/html": [
       "<div>\n",
       "<style scoped>\n",
       "    .dataframe tbody tr th:only-of-type {\n",
       "        vertical-align: middle;\n",
       "    }\n",
       "\n",
       "    .dataframe tbody tr th {\n",
       "        vertical-align: top;\n",
       "    }\n",
       "\n",
       "    .dataframe thead th {\n",
       "        text-align: right;\n",
       "    }\n",
       "</style>\n",
       "<table border=\"1\" class=\"dataframe\">\n",
       "  <thead>\n",
       "    <tr style=\"text-align: right;\">\n",
       "      <th>park_name</th>\n",
       "      <th>Bryce National Park</th>\n",
       "      <th>Great Smoky Mountains National Park</th>\n",
       "      <th>Yellowstone National Park</th>\n",
       "      <th>Yosemite National Park</th>\n",
       "    </tr>\n",
       "    <tr>\n",
       "      <th>scientific_name</th>\n",
       "      <th></th>\n",
       "      <th></th>\n",
       "      <th></th>\n",
       "      <th></th>\n",
       "    </tr>\n",
       "  </thead>\n",
       "  <tbody>\n",
       "    <tr>\n",
       "      <th>Abies bifolia</th>\n",
       "      <td>109.0</td>\n",
       "      <td>72.0</td>\n",
       "      <td>215.0</td>\n",
       "      <td>136.0</td>\n",
       "    </tr>\n",
       "    <tr>\n",
       "      <th>Abies concolor</th>\n",
       "      <td>83.0</td>\n",
       "      <td>101.0</td>\n",
       "      <td>241.0</td>\n",
       "      <td>205.0</td>\n",
       "    </tr>\n",
       "    <tr>\n",
       "      <th>Abies fraseri</th>\n",
       "      <td>109.0</td>\n",
       "      <td>81.0</td>\n",
       "      <td>218.0</td>\n",
       "      <td>110.0</td>\n",
       "    </tr>\n",
       "    <tr>\n",
       "      <th>Abietinella abietina</th>\n",
       "      <td>101.0</td>\n",
       "      <td>65.0</td>\n",
       "      <td>243.0</td>\n",
       "      <td>183.0</td>\n",
       "    </tr>\n",
       "    <tr>\n",
       "      <th>Abronia ammophila</th>\n",
       "      <td>92.0</td>\n",
       "      <td>72.0</td>\n",
       "      <td>222.0</td>\n",
       "      <td>137.0</td>\n",
       "    </tr>\n",
       "  </tbody>\n",
       "</table>\n",
       "</div>"
      ],
      "text/plain": [
       "park_name             Bryce National Park  \\\n",
       "scientific_name                             \n",
       "Abies bifolia                       109.0   \n",
       "Abies concolor                       83.0   \n",
       "Abies fraseri                       109.0   \n",
       "Abietinella abietina                101.0   \n",
       "Abronia ammophila                    92.0   \n",
       "\n",
       "park_name             Great Smoky Mountains National Park  \\\n",
       "scientific_name                                             \n",
       "Abies bifolia                                        72.0   \n",
       "Abies concolor                                      101.0   \n",
       "Abies fraseri                                        81.0   \n",
       "Abietinella abietina                                 65.0   \n",
       "Abronia ammophila                                    72.0   \n",
       "\n",
       "park_name             Yellowstone National Park  Yosemite National Park  \n",
       "scientific_name                                                          \n",
       "Abies bifolia                             215.0                   136.0  \n",
       "Abies concolor                            241.0                   205.0  \n",
       "Abies fraseri                             218.0                   110.0  \n",
       "Abietinella abietina                      243.0                   183.0  \n",
       "Abronia ammophila                         222.0                   137.0  "
      ]
     },
     "execution_count": 38,
     "metadata": {},
     "output_type": "execute_result"
    }
   ],
   "source": [
    "species_park_totals = obs_with_cats.groupby(['park_name','scientific_name']).observations.sum().to_frame().reset_index()\n",
    "species_park_pivot = species_park_totals.pivot_table(columns = 'park_name', index = 'scientific_name', values = 'observations')\n",
    "species_park_pivot.head()"
   ]
  },
  {
   "cell_type": "markdown",
   "metadata": {},
   "source": [
    "This is the first five rows of a huge table, with counts for every species at every park.  Next, I add columns for % at each park."
   ]
  },
  {
   "cell_type": "code",
   "execution_count": 39,
   "metadata": {},
   "outputs": [
    {
     "data": {
      "text/html": [
       "<div>\n",
       "<style scoped>\n",
       "    .dataframe tbody tr th:only-of-type {\n",
       "        vertical-align: middle;\n",
       "    }\n",
       "\n",
       "    .dataframe tbody tr th {\n",
       "        vertical-align: top;\n",
       "    }\n",
       "\n",
       "    .dataframe thead th {\n",
       "        text-align: right;\n",
       "    }\n",
       "</style>\n",
       "<table border=\"1\" class=\"dataframe\">\n",
       "  <thead>\n",
       "    <tr style=\"text-align: right;\">\n",
       "      <th></th>\n",
       "      <th>bryce</th>\n",
       "      <th>smoky</th>\n",
       "      <th>yellowstone</th>\n",
       "      <th>yosemite</th>\n",
       "      <th>total</th>\n",
       "      <th>prop_smoky</th>\n",
       "      <th>prop_yosemite</th>\n",
       "      <th>prop_bryce</th>\n",
       "      <th>prop_yellowstone</th>\n",
       "    </tr>\n",
       "    <tr>\n",
       "      <th>scientific_name</th>\n",
       "      <th></th>\n",
       "      <th></th>\n",
       "      <th></th>\n",
       "      <th></th>\n",
       "      <th></th>\n",
       "      <th></th>\n",
       "      <th></th>\n",
       "      <th></th>\n",
       "      <th></th>\n",
       "    </tr>\n",
       "  </thead>\n",
       "  <tbody>\n",
       "    <tr>\n",
       "      <th>Abies bifolia</th>\n",
       "      <td>109.0</td>\n",
       "      <td>72.0</td>\n",
       "      <td>215.0</td>\n",
       "      <td>136.0</td>\n",
       "      <td>532.0</td>\n",
       "      <td>13.5</td>\n",
       "      <td>25.6</td>\n",
       "      <td>20.5</td>\n",
       "      <td>40.4</td>\n",
       "    </tr>\n",
       "    <tr>\n",
       "      <th>Abies concolor</th>\n",
       "      <td>83.0</td>\n",
       "      <td>101.0</td>\n",
       "      <td>241.0</td>\n",
       "      <td>205.0</td>\n",
       "      <td>630.0</td>\n",
       "      <td>16.0</td>\n",
       "      <td>32.5</td>\n",
       "      <td>13.2</td>\n",
       "      <td>38.3</td>\n",
       "    </tr>\n",
       "    <tr>\n",
       "      <th>Abies fraseri</th>\n",
       "      <td>109.0</td>\n",
       "      <td>81.0</td>\n",
       "      <td>218.0</td>\n",
       "      <td>110.0</td>\n",
       "      <td>518.0</td>\n",
       "      <td>15.6</td>\n",
       "      <td>21.2</td>\n",
       "      <td>21.0</td>\n",
       "      <td>42.1</td>\n",
       "    </tr>\n",
       "    <tr>\n",
       "      <th>Abietinella abietina</th>\n",
       "      <td>101.0</td>\n",
       "      <td>65.0</td>\n",
       "      <td>243.0</td>\n",
       "      <td>183.0</td>\n",
       "      <td>592.0</td>\n",
       "      <td>11.0</td>\n",
       "      <td>30.9</td>\n",
       "      <td>17.1</td>\n",
       "      <td>41.0</td>\n",
       "    </tr>\n",
       "    <tr>\n",
       "      <th>Abronia ammophila</th>\n",
       "      <td>92.0</td>\n",
       "      <td>72.0</td>\n",
       "      <td>222.0</td>\n",
       "      <td>137.0</td>\n",
       "      <td>523.0</td>\n",
       "      <td>13.8</td>\n",
       "      <td>26.2</td>\n",
       "      <td>17.6</td>\n",
       "      <td>42.4</td>\n",
       "    </tr>\n",
       "  </tbody>\n",
       "</table>\n",
       "</div>"
      ],
      "text/plain": [
       "                      bryce  smoky  yellowstone  yosemite  total  prop_smoky  \\\n",
       "scientific_name                                                                \n",
       "Abies bifolia         109.0   72.0        215.0     136.0  532.0        13.5   \n",
       "Abies concolor         83.0  101.0        241.0     205.0  630.0        16.0   \n",
       "Abies fraseri         109.0   81.0        218.0     110.0  518.0        15.6   \n",
       "Abietinella abietina  101.0   65.0        243.0     183.0  592.0        11.0   \n",
       "Abronia ammophila      92.0   72.0        222.0     137.0  523.0        13.8   \n",
       "\n",
       "                      prop_yosemite  prop_bryce  prop_yellowstone  \n",
       "scientific_name                                                    \n",
       "Abies bifolia                  25.6        20.5              40.4  \n",
       "Abies concolor                 32.5        13.2              38.3  \n",
       "Abies fraseri                  21.2        21.0              42.1  \n",
       "Abietinella abietina           30.9        17.1              41.0  \n",
       "Abronia ammophila              26.2        17.6              42.4  "
      ]
     },
     "execution_count": 39,
     "metadata": {},
     "output_type": "execute_result"
    }
   ],
   "source": [
    "species_park_pivot['Total'] = species_park_pivot['Bryce National Park'] + species_park_pivot['Great Smoky Mountains National Park']+ species_park_pivot['Yellowstone National Park'] + species_park_pivot['Yosemite National Park']\n",
    "park_names = (observations.park_name.unique())\n",
    "\n",
    "for park in park_names:\n",
    "    species_park_pivot[\"prop_\" + park] = species_park_pivot.apply(lambda row: float(round(row[park] / row['Total'] * 100, 1)), axis = 1)\n",
    "\n",
    "species_park_pivot.columns= ['bryce',\n",
    " 'smoky',\n",
    " 'yellowstone',\n",
    " 'yosemite',\n",
    " 'total',\n",
    " 'prop_smoky',\n",
    " 'prop_yosemite',\n",
    " 'prop_bryce',\n",
    " 'prop_yellowstone']\n",
    "\n",
    "species_park_pivot.head()"
   ]
  },
  {
   "cell_type": "markdown",
   "metadata": {},
   "source": [
    "The next cell loops through each park to see whether the proportion of observations of any species is particularly high or low compared to their own averages (comparing to their own averages because we've seen that Yellowstone is so dominant and will always come out top).  It only prints out the anomalies."
   ]
  },
  {
   "cell_type": "code",
   "execution_count": 40,
   "metadata": {},
   "outputs": [
    {
     "name": "stdout",
     "output_type": "stream",
     "text": [
      "**Anomalies at bryce**\n",
      "No species over-represented\n",
      "Species under-represented, given that this park usually accounts for 17.3% of observations:\n",
      "\t Corydalis aurea 9 sightings (1.8%)\n",
      "\n",
      "\n",
      "**Anomalies at smoky**\n",
      "Species over-represented, given that this park usually accounts for 13.0% of observations:\n",
      "\t Acer glabrum 123 sightings (23.5%)\n",
      "\t Scirpus expansus 125 sightings (23.0%)\n",
      "\t Sonchus asper ssp. asper 147 sightings (24.4%)\n",
      "Species under-represented, given that this park usually accounts for 13.0% of observations:\n",
      "\t Collomia tinctoria 10 sightings (1.8%)\n",
      "\t Sambucus mexicana 12 sightings (2.3%)\n",
      "\t Strix occidentalis 11 sightings (2.2%)\n",
      "\n",
      "\n",
      "**Anomalies at yellowstone**\n",
      "No species over-represented\n",
      "No species under-represented\n",
      "\n",
      "\n",
      "**Anomalies at yosemite**\n",
      "No species over-represented\n",
      "No species under-represented\n",
      "\n",
      "\n"
     ]
    }
   ],
   "source": [
    "parks = list(species_park_pivot.columns[:4])\n",
    "\n",
    "for park in parks:\n",
    "    print(\"**Anomalies at \" + park + \"**\")\n",
    "    high_threshold = species_park_pivot[\"prop_\" + park].mean() * 1.75\n",
    "    low_threshold = species_park_pivot[\"prop_\" + park].mean() * 0.2\n",
    "    high_skewed = species_park_pivot[species_park_pivot[\"prop_\" + park] > high_threshold]\n",
    "    low_skewed = species_park_pivot[species_park_pivot[\"prop_\" + park] < low_threshold]\n",
    "    if len(high_skewed) == 0:\n",
    "        print(\"No species over-represented\")\n",
    "    else:\n",
    "        print(f\"Species over-represented, given that this park usually accounts for {species_park_pivot[\"prop_\" + park].mean():.1f}% of observations:\")\n",
    "        for index, row in high_skewed.iterrows():\n",
    "            print(f\"\\t {index} {row[park]:.0f} sightings ({row[\"prop_\" + park]:.1f}%)\")\n",
    "    if len(low_skewed) == 0:\n",
    "        print(\"No species under-represented\")\n",
    "    else:\n",
    "        print(f\"Species under-represented, given that this park usually accounts for {species_park_pivot[\"prop_\" + park].mean():.1f}% of observations:\")\n",
    "        for index, row in low_skewed.iterrows():\n",
    "            print(f\"\\t {index} {row[park]:.0f} sightings ({row[\"prop_\" + park]:.1f}%)\")\n",
    "    print('\\n')\n"
   ]
  },
  {
   "cell_type": "markdown",
   "metadata": {},
   "source": [
    "This shows us any particularly big anomalies e.g. don't go to Bryce National Park if it's Corydalis Aurea that you're really wanting to see etc."
   ]
  },
  {
   "cell_type": "markdown",
   "metadata": {},
   "source": [
    "## Conclusions"
   ]
  },
  {
   "cell_type": "markdown",
   "metadata": {},
   "source": [
    "* This was a good exercise especially in terms of handling missing values and duplicates, and in combining datasets.<br>\n",
    "* The mammals were shown to be significantly the most threatened category, and the vascular plants the least threatened.<br>\n",
    "* The Whooping Crane was the least frequently observed species, and is classed as \"Endangered\".<br>\n",
    "* Yellowstone generally has the highest sightings of the four parks, which may be due to various factors such as more scientists collecting data there, so we cannot necessarily conclude that it is the most successful wildlife habitat.<br>"
   ]
  },
  {
   "cell_type": "code",
   "execution_count": null,
   "metadata": {},
   "outputs": [],
   "source": []
  }
 ],
 "metadata": {
  "kernelspec": {
   "display_name": "Python 3 (ipykernel)",
   "language": "python",
   "name": "python3"
  },
  "language_info": {
   "codemirror_mode": {
    "name": "ipython",
    "version": 3
   },
   "file_extension": ".py",
   "mimetype": "text/x-python",
   "name": "python",
   "nbconvert_exporter": "python",
   "pygments_lexer": "ipython3",
   "version": "3.12.1"
  }
 },
 "nbformat": 4,
 "nbformat_minor": 4
}
